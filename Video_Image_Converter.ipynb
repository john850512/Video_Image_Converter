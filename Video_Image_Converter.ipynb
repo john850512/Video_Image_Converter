{
 "cells": [
  {
   "cell_type": "code",
   "execution_count": 1,
   "metadata": {
    "collapsed": true
   },
   "outputs": [],
   "source": [
    "import numpy as np\n",
    "import ffmpeg, cv2, os, glob\n",
    "import pandas as pd"
   ]
  },
  {
   "cell_type": "code",
   "execution_count": 2,
   "metadata": {
    "collapsed": true
   },
   "outputs": [],
   "source": [
    "def get_img_filename(folder_path='./', filename_extension='png'):\n",
    "    \"\"\" find all the filename below the folder, and sort them\n",
    "    \n",
    "    parameters: \n",
    "        folder_path: folder path where images saved\n",
    "        filename_extension: file type want to search\n",
    "        \n",
    "    return:\n",
    "        list of filename with alphabet order\n",
    "    \"\"\"\n",
    "    \n",
    "    filename_extension = '.' + filename_extension\n",
    "    filename = glob.glob(folder_path + '/*' + filename_extension)\n",
    "    filename = sorted(filename)\n",
    "    return filename"
   ]
  },
  {
   "cell_type": "code",
   "execution_count": 3,
   "metadata": {
    "collapsed": true
   },
   "outputs": [],
   "source": [
    "def get_timestamp(filename, output_filename='timestamp.csv'):\n",
    "    \"\"\" get the image timestamp and save as .csv\n",
    "    \n",
    "    parameters: \n",
    "        filename: list of filename which was sorted by timestamp(get from function `get_img_filename`)\n",
    "        output_filename: filename of csv\n",
    "        \n",
    "    return:\n",
    "        dataframe of timestamp\n",
    "    \"\"\"\n",
    "    timestamp = []\n",
    "    for path in filename:\n",
    "        temp = path.split('-')[1].split('.')[:-1]\n",
    "        timestamp.append( str(temp[0]) + '.' + str(temp[1]) )\n",
    "    df = pd.DataFrame(timestamp, columns=['timestamp'])\n",
    "    df.to_csv(output_filename, index=False)\n",
    "    return df"
   ]
  },
  {
   "cell_type": "code",
   "execution_count": 4,
   "metadata": {
    "collapsed": true
   },
   "outputs": [],
   "source": [
    "def images_to_video(input_folder='./', filename_extension='png', fr=20, output_filename='output', output_filename_extension='flv', verbose=True):\n",
    "    \"\"\" convert image which under the input_folder(with assigned filename_extension) into video\n",
    "    \n",
    "    parameters: \n",
    "        input_folder: folder path where images saved, eg. taiko/capture_2018_09_25_12_21_56\n",
    "        filename_extension: file type want to search\n",
    "        fr: frame rate, eg. 20 means runs 20 picture during 1 second(frequency)\n",
    "        output_filename: file name of output video\n",
    "        output_filename_extension: filename_extension of output video\n",
    "        verbose: if output message\n",
    "    \"\"\"    \n",
    "\n",
    "    filename_extension = '.' + filename_extension\n",
    "    input_filename = input_folder + '/*' + filename_extension\n",
    "    output_filename = output_filename + '.' + output_filename_extension\n",
    "    if os.path.isfile(output_filename) is True:\n",
    "        print('video already exist..')\n",
    "        return\n",
    "    if verbose:\n",
    "        print('covert image from:', input_filename, 'into', output_filename)\n",
    "    \n",
    "    (\n",
    "        ffmpeg\n",
    "        .input(input_filename, pattern_type='glob', framerate=fr)\n",
    "        .output(output_filename)\n",
    "        .run()\n",
    "    )\n",
    "    if verbose:\n",
    "        print('finish..')"
   ]
  },
  {
   "cell_type": "code",
   "execution_count": 5,
   "metadata": {
    "collapsed": true
   },
   "outputs": [],
   "source": [
    "def convert_images_to_video(input_folder, output_folder):\n",
    "    \"\"\" convert image which under the input_folder and output video & timestamp.csv on assign folder\n",
    "    \n",
    "    parameters: \n",
    "        input_folder: folder path where images saved, eg. taiko/capture_2018_09_25_12_21_56\n",
    "        output_folder: folder to output video & timestamp.csv\n",
    "    \"\"\"        \n",
    "    \n",
    "    #  0.check if output_folder exist \n",
    "    if os.path.isdir(output_folder) is False:\n",
    "        os.makedirs(output_folder)\n",
    "        print('create folder:', output_folder)\n",
    "        \n",
    "    # 1.get all the path of images\n",
    "    filename_list = get_img_filename(input_folder)\n",
    "    \n",
    "    # 2.get all the timestamp of image and save as .csv\n",
    "    timestamp_filename = 'timestamp_' + input_folder.split('/')[1] + '.csv' # eg.timestamp_capture_2018_09_25_12_21_56.csv\n",
    "    timestamp = get_timestamp(filename_list, output_filename= output_folder  + '/' + timestamp_filename)    \n",
    "    \n",
    "    # 3.convert images into video\n",
    "    images_to_video(input_folder, output_filename= output_folder + '/' + input_folder.split('/')[1], output_filename_extension='flv')"
   ]
  },
  {
   "cell_type": "code",
   "execution_count": 15,
   "metadata": {
    "collapsed": true
   },
   "outputs": [],
   "source": [
    "def convert_video_to_images(input_filename, width, height, timestamp_filename=None,  images_output_folder='./', output_filename_extension='png', verbose=False):\n",
    "    \"\"\" convert video array into images, and save to assign folder\n",
    "    \n",
    "    parameters: \n",
    "        input_filename: video filename with filename_extension, eg. capture_2018_09_25_12_21_56.flv\n",
    "        width: output image width(must as same as origin video size)\n",
    "        height: output image height(must as same as origin video size)\n",
    "        timestamp: list of timestamp, if use timestamp to assign image filename, None means filename will be assignd as 0.png 1.png 2.png ... N.png\n",
    "        output_folder: output folder, if assigned output_folder dont exist, image wont be saved\n",
    "        output_filename_extension: filename_extension of output image\n",
    "        verbose: if output message\n",
    "    \"\"\"        \n",
    "    # 0.check if output_folder exist \n",
    "    if os.path.isdir(images_output_folder) is False:\n",
    "        os.makedirs(images_output_folder)\n",
    "        print('create folder:', images_output_folder)\n",
    "        \n",
    "    # 1.convert video into array\n",
    "    out, _ = (\n",
    "        ffmpeg\n",
    "        .input(input_filename)\n",
    "        .output('pipe:', format='rawvideo', pix_fmt='rgb24')\n",
    "        .run(capture_stdout=True)\n",
    "    )\n",
    "    img_array = (\n",
    "        np\n",
    "        .frombuffer(out, np.uint8)\n",
    "        .reshape([-1, height, width, 3]) \n",
    "    )\n",
    "    \n",
    "    # 2. output img file\n",
    "    print('video covert to image array....')\n",
    "    filename_extension = '.' + output_filename_extension\n",
    "    images_output_folder = images_output_folder + '/'\n",
    "    if timestamp_filename is not None:\n",
    "        timestamp = pd.read_csv(timestamp_filename).values\n",
    "    for idx, img in enumerate(img_array):\n",
    "        if timestamp_filename is None:\n",
    "            if verbose:\n",
    "                print('output:', images_output_folder + str(idx) + filename_extension)\n",
    "            cv2.imwrite(images_output_folder + '%04d'%idx + filename_extension, cv2.cvtColor(img, cv2.COLOR_RGB2BGR))\n",
    "        else:\n",
    "            if verbose:\n",
    "                print('output:', images_output_folder + str(timestamp[idx][0]) + filename_extension)   \n",
    "            cv2.imwrite(images_output_folder + '%04d-'%idx + str(timestamp[idx][0])+ filename_extension, cv2.cvtColor(img, cv2.COLOR_RGB2BGR))\n",
    "    print('finish')"
   ]
  },
  {
   "cell_type": "markdown",
   "metadata": {},
   "source": [
    "# 教學\n",
    "\n",
    "就兩個指令:\n",
    "\n",
    "- convert_images_to_video(input_folder, output_folder): \n",
    "\n",
    "  將圖片轉成影像(影像檔名為`[input_folder].flv`)，並輸出timestamp.csv(檔名為`[timestamp] + [input_folder].csv`)\n",
    " - input_folder: 圖片們所在的資料夾位置\n",
    " - output_folder: 輸出影片要存放的位置(如果給定的位置不存在會自動創建一個)\n",
    "- convert_video_to_images(input_filename, width, height, timestamp_filename=None,  images_output_folder='./', output_filename_extension='png', verbose=False): 將影像轉成圖片\n",
    " - input_filename: 影片所在的位置\n",
    " - width: 圖片的寬度(必須和原始影片的寬度相同)\n",
    " - height: 圖片的高度(必須和原始影片的高度相同)\n",
    " - timestamp_filename: timestamp.csv所在的位置，圖片檔名會參照timestamp.csv的order自動命名。如果參數設None會按照[0,N]順序編碼\n",
    " - images_output_folder: 轉換後的圖片存放位置，如果指定的位置不存在會自動創建一個\n",
    " - output_filename_extension: 輸出的圖片檔案格式\n",
    " - verbose: 要不要輸出詳細訊息\n",
    " \n",
    " \n",
    " ---\n",
    " note:\n",
    " \n",
    "- 將圖片轉成影像的功能:\n",
    "目前檔案存放位置請先依照如下設置，不然可能會有問題(`convert_images_to_video`的`output_filename= output_folder + '/' + input_folder.split('/')[1]`沒有寫好)\n",
    " \n",
    ">請將圖片存放的位置放在本程式(.ipynb)的下一層，也就是圖片存放的位置至少要用一層資料夾包起來(如下方範例的taiko/)\n",
    " "
   ]
  },
  {
   "cell_type": "markdown",
   "metadata": {},
   "source": [
    "### 1. 將圖片轉成影像"
   ]
  },
  {
   "cell_type": "code",
   "execution_count": 16,
   "metadata": {},
   "outputs": [
    {
     "name": "stdout",
     "output_type": "stream",
     "text": [
      "video already exist..\n"
     ]
    }
   ],
   "source": [
    "# 指定資料夾位置\n",
    "input_folder = 'taiko/capture_2018_09_25_12_21_56'\n",
    "output_folder = 'taiko_output'\n",
    "\n",
    "convert_images_to_video(input_folder, output_folder)"
   ]
  },
  {
   "cell_type": "markdown",
   "metadata": {},
   "source": [
    "### 2. 將影像轉回圖片"
   ]
  },
  {
   "cell_type": "code",
   "execution_count": 17,
   "metadata": {},
   "outputs": [
    {
     "name": "stdout",
     "output_type": "stream",
     "text": [
      "video covert to image array....\n",
      "finish\n"
     ]
    }
   ],
   "source": [
    "# 指定資料夾位置，如果沒有會自動創建一個\n",
    "input_filename = '../logitech.mov'\n",
    "images_output_folder = '../logitech_video'\n",
    "convert_video_to_images(input_filename = input_filename, \n",
    "                                    width=1080, height=720,\n",
    "                                    timestamp_filename = None, \n",
    "                                    images_output_folder = images_output_folder, output_filename_extension='png', verbose=False)"
   ]
  }
 ],
 "metadata": {
  "kernelspec": {
   "display_name": "Python 3",
   "language": "python",
   "name": "python3"
  },
  "language_info": {
   "codemirror_mode": {
    "name": "ipython",
    "version": 3
   },
   "file_extension": ".py",
   "mimetype": "text/x-python",
   "name": "python",
   "nbconvert_exporter": "python",
   "pygments_lexer": "ipython3",
   "version": "3.6.1"
  }
 },
 "nbformat": 4,
 "nbformat_minor": 2
}
